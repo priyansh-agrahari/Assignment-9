{
  "nbformat": 4,
  "nbformat_minor": 0,
  "metadata": {
    "colab": {
      "name": "graph.ipynb",
      "provenance": [],
      "collapsed_sections": []
    },
    "kernelspec": {
      "name": "python3",
      "display_name": "Python 3"
    }
  },
  "cells": [
    {
      "cell_type": "code",
      "metadata": {
        "colab": {
          "base_uri": "https://localhost:8080/",
          "height": 295
        },
        "id": "jQ1tMrI7BK7R",
        "outputId": "27f5cb53-3536-4ba0-fc7e-f16972b5f322"
      },
      "source": [
                # importing required modules 
                import matplotlib.pyplot as plt 
                import numpy as np 

                # setting a style to use 
                plt.style.use('ggplot') 

                # create a figure 
                fig = plt.figure(figsize=(5.5, 9)) 

                # define subplots and their positions in figure 
                # x axis values 
                x = [0,1,1,2,2,3,4,4,5,5,6] 
                # corresponding y axis values 
                y = [0,0,5,5,0,0,0,5,5,0,0] 
                #plt.ylim(0,10.5) 
                plt1 = fig.add_subplot(311) 
                plt1.plot(x, y, color ='r') 
                plt1.set_title('Timing Diagram for $Q_1$') 
                plt.xlabel('Time') 
                plt.ylabel('Voltage at $Y$ (A=5V)') 
                plt.ylim(-0.1,5.5) 
                plt.xlim(-0.1,5.5) 

                # x axis values 
                x = [0,1,1,2,2,3,3,4,4,5,6] 
                # corresponding y axis values 
                y = [0,0,5,5,0,0,5,5,0,0,0] 
                #plt.ylim(0,10.5) 
                plt2 = fig.add_subplot(312) 
                plt2.plot(x, y, color ='b') 
                plt2.set_title('Timing Diagram for $Q_3$') 
                plt.xlabel('Time') 
                plt.ylabel('Voltage at $Y$ (A=5V)') 
                plt.ylim(-0.1,5.5) 
                plt.xlim(-0.1,5.5) 

                # x axis values 
                x = [0,1,1,2,2,3,3,5,5,6] 
                # corresponding y axis values 
                y = [0,0,5,5,0,0,5,5,0,0] 
                plt3 = fig.add_subplot(313) 
                plt3.plot(x, y, color ='g') 
                x = [4,4]
                y = [0,5]
                plt3.plot(x, y, color='g', linestyle='dashed')
                plt3.set_title('Timing Diagram for $Y=Q_3+Q_5$') 
                plt.xlabel('Time') 
                plt.ylabel('Voltage at $Y$ (A=5V)') 
                plt.ylim(-0.1,5.5) 
                plt.xlim(-0.1,5.5) 
                
                fig.subplots_adjust(hspace=.5)
                plt.savefig('graph.pdf')
                # function to show the plot 
                plt.show()

      ],
      "execution_count": 5,
      "outputs": [
        {
          "output_type": "display_data",
          "data": {
            "image/png": "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\n",
            "text/plain": [
              "<Figure size 432x288 with 1 Axes>"
            ]
          },
          "metadata": {
            "tags": [],
            "needs_background": "light"
          }
        }
      ]
    }
  ]
}
